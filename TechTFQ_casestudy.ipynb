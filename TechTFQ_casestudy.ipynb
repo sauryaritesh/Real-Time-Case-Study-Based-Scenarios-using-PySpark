{
 "cells": [
  {
   "cell_type": "markdown",
   "metadata": {
    "application/vnd.databricks.v1+cell": {
     "cellMetadata": {},
     "inputWidgets": {},
     "nuid": "fbd8b455-f095-4a0f-bb89-4e035434309b",
     "showTitle": false,
     "title": ""
    }
   },
   "source": [
    "# Importing Libraries"
   ]
  },
  {
   "cell_type": "code",
   "execution_count": 0,
   "metadata": {
    "application/vnd.databricks.v1+cell": {
     "cellMetadata": {
      "byteLimit": 2048000,
      "rowLimit": 10000
     },
     "inputWidgets": {},
     "nuid": "3019ede3-0075-4de0-bbcf-29bdb93404d1",
     "showTitle": false,
     "title": ""
    }
   },
   "outputs": [],
   "source": [
    "import pyspark\n",
    "from pyspark.sql import SparkSession\n",
    "from pyspark.sql.functions import *\n",
    "from pyspark.sql.window import Window\n",
    "spark=SparkSession.builder.appName('TechTFQ').getOrCreate()\n"
   ]
  },
  {
   "cell_type": "markdown",
   "metadata": {
    "application/vnd.databricks.v1+cell": {
     "cellMetadata": {},
     "inputWidgets": {},
     "nuid": "f7a90847-fa5d-489c-ac54-bc14deb25165",
     "showTitle": false,
     "title": ""
    }
   },
   "source": [
    "#Creating Dataframes  "
   ]
  },
  {
   "cell_type": "code",
   "execution_count": 0,
   "metadata": {
    "application/vnd.databricks.v1+cell": {
     "cellMetadata": {
      "byteLimit": 2048000,
      "rowLimit": 10000
     },
     "inputWidgets": {},
     "nuid": "6e666092-9305-4ef7-b79e-5c4b3a307e5a",
     "showTitle": false,
     "title": ""
    }
   },
   "outputs": [],
   "source": [
    "df_subject = spark.read.csv('dbfs:/FileStore/shared_uploads/kumaranonymous77@gmail.com/subject.csv', header=True, inferSchema=True)\n",
    "\n",
    "df_work = spark.read.csv('dbfs:/FileStore/shared_uploads/kumaranonymous77@gmail.com/work-1.csv', header=True, inferSchema=True)\n",
    "\n",
    "df_artist = spark.read.csv('dbfs:/FileStore/shared_uploads/kumaranonymous77@gmail.com/artist.csv', header=True, inferSchema=True)\n",
    "\n",
    "df_canvas_size = spark.read.csv('dbfs:/FileStore/shared_uploads/kumaranonymous77@gmail.com/canvas_size.csv', header=True, inferSchema=True)\n",
    "\n",
    "df_image_link = spark.read.csv('dbfs:/FileStore/shared_uploads/kumaranonymous77@gmail.com/image_link.csv', header=True, inferSchema=True)\n",
    "\n",
    "df_museum = spark.read.csv('dbfs:/FileStore/shared_uploads/kumaranonymous77@gmail.com/museum-1.csv', header=True, inferSchema=True)\n",
    "\n",
    "df_museum_hours = spark.read.csv('dbfs:/FileStore/shared_uploads/kumaranonymous77@gmail.com/museum_hours.csv', header=True, inferSchema=True)\n",
    "\n",
    "df_product_size = spark.read.csv('dbfs:/FileStore/shared_uploads/kumaranonymous77@gmail.com/product_size.csv', header=True, inferSchema=True)"
   ]
  },
  {
   "cell_type": "markdown",
   "metadata": {
    "application/vnd.databricks.v1+cell": {
     "cellMetadata": {},
     "inputWidgets": {},
     "nuid": "c2b5c18e-6c77-4061-b678-59b1a1c28acc",
     "showTitle": false,
     "title": ""
    }
   },
   "source": [
    "### Fetch all the paintings which are not displayed on any museums?\n"
   ]
  },
  {
   "cell_type": "code",
   "execution_count": 0,
   "metadata": {
    "application/vnd.databricks.v1+cell": {
     "cellMetadata": {
      "byteLimit": 2048000,
      "rowLimit": 10000
     },
     "inputWidgets": {},
     "nuid": "1d7a7fb1-b2c6-471c-8b1b-39f496cca42c",
     "showTitle": false,
     "title": "Problem Statement -1 [ Fetch all the paintings which are not displayed on any museums? ]"
    }
   },
   "outputs": [
    {
     "output_type": "stream",
     "name": "stdout",
     "output_type": "stream",
     "text": [
      "+-------+--------------------+---------+-------+---------+\n|work_id|                name|artist_id|  style|museum_id|\n+-------+--------------------+---------+-------+---------+\n| 125752|Arabian Horses at...|      757|Baroque|     null|\n| 125818|Count Halm on His...|      757|Baroque|     null|\n| 125763|Napoleon Before t...|      757|Baroque|     null|\n| 125774|Peasants Resting ...|      757|Baroque|     null|\n| 125785|Portrait Oberleut...|      757|Baroque|     null|\n| 125796|The Rescue of Cou...|      757|Baroque|     null|\n| 125807|     The Stable Yard|      757|Baroque|     null|\n|  24532|Jacob A. Stamler ...|      563|   null|     null|\n| 124470| Kaleda off Le Havre|      563|   null|     null|\n| 124479|R. Bell &amp; Co....|      563|   null|     null|\n| 124488|Steam Sailing Shi...|      563|   null|     null|\n| 124497|The American Ship...|      563|   null|     null|\n| 124506|The Atalanta Runn...|      563|   null|     null|\n| 124515|The Auxiliary Ste...|      563|   null|     null|\n| 124524|The Auxiliary Ste...|      563|   null|     null|\n| 124533|The Barquentine H...|      563|   null|     null|\n| 124542|The First French ...|      563|   null|     null|\n| 124551|The French Brig D...|      563|   null|     null|\n| 124560|The Full-Rigger K...|      563|   null|     null|\n| 124569|The Richard Rylan...|      563|   null|     null|\n+-------+--------------------+---------+-------+---------+\nonly showing top 20 rows\n\nOut[3]: 'df_work.createOrReplaceTempView(\"work_table\")\\nresult = spark.sql(\"select * from work_table where museum_id is null\")\\nresult.show()'"
     ]
    }
   ],
   "source": [
    "result = df_work.filter(df_work.museum_id.isNull())\n",
    "result.show()\n",
    "\n",
    "#----------------------------------------------------------------------------------------\n",
    "# Through SQL approach\\\\\\///converting dataframe to a temporary SQL Table\n",
    "'''df_work.createOrReplaceTempView(\"work_table\")\n",
    "result = spark.sql(\"select * from work_table where museum_id is null\")\n",
    "result.show()'''"
   ]
  },
  {
   "cell_type": "markdown",
   "metadata": {
    "application/vnd.databricks.v1+cell": {
     "cellMetadata": {
      "byteLimit": 2048000,
      "rowLimit": 10000
     },
     "inputWidgets": {},
     "nuid": "45f2174d-96ee-4811-81e1-12a7f0dbefa4",
     "showTitle": false,
     "title": ""
    }
   },
   "source": [
    "### Are there museuems without any paintings?\n",
    "\n"
   ]
  },
  {
   "cell_type": "code",
   "execution_count": 0,
   "metadata": {
    "application/vnd.databricks.v1+cell": {
     "cellMetadata": {
      "byteLimit": 2048000,
      "rowLimit": 10000
     },
     "inputWidgets": {},
     "nuid": "a455f85b-d2e6-4edb-a2d1-ea8f74878d25",
     "showTitle": false,
     "title": ""
    }
   },
   "outputs": [
    {
     "output_type": "stream",
     "name": "stdout",
     "output_type": "stream",
     "text": [
      "+---------+----+-------+----+-----+------+-------+-----+---+-------+----+---------+-----+\n|museum_id|name|address|city|state|postal|country|phone|url|work_id|name|artist_id|style|\n+---------+----+-------+----+-----+------+-------+-----+---+-------+----+---------+-----+\n+---------+----+-------+----+-----+------+-------+-----+---+-------+----+---------+-----+\n\n"
     ]
    }
   ],
   "source": [
    "result_df = df_museum.alias(\"m\").join(df_work.alias(\"w\"), \"museum_id\", \"left_outer\").filter(\"w.museum_id IS NULL\")\n",
    "result_df.show()"
   ]
  },
  {
   "cell_type": "markdown",
   "metadata": {
    "application/vnd.databricks.v1+cell": {
     "cellMetadata": {
      "byteLimit": 2048000,
      "rowLimit": 10000
     },
     "inputWidgets": {},
     "nuid": "e0a96797-975c-436c-9d70-0b91859cfddf",
     "showTitle": false,
     "title": ""
    }
   },
   "source": [
    "### How many paintings have an asking price of more than their regular price? "
   ]
  },
  {
   "cell_type": "code",
   "execution_count": 0,
   "metadata": {
    "application/vnd.databricks.v1+cell": {
     "cellMetadata": {
      "byteLimit": 2048000,
      "rowLimit": 10000
     },
     "inputWidgets": {},
     "nuid": "caf4b73a-8300-4c8e-91c4-196d9f1396cb",
     "showTitle": false,
     "title": ""
    }
   },
   "outputs": [
    {
     "output_type": "stream",
     "name": "stdout",
     "output_type": "stream",
     "text": [
      "+-------+-------+----------+-------------+\n|work_id|size_id|sale_price|regular_price|\n+-------+-------+----------+-------------+\n+-------+-------+----------+-------------+\n\n"
     ]
    }
   ],
   "source": [
    "result_three = df_product_size.filter(\"sale_price > regular_price\") \n",
    "result_three.show()"
   ]
  },
  {
   "cell_type": "markdown",
   "metadata": {
    "application/vnd.databricks.v1+cell": {
     "cellMetadata": {},
     "inputWidgets": {},
     "nuid": "54a8e136-164b-42fd-8afb-355a4ae0242b",
     "showTitle": false,
     "title": ""
    }
   },
   "source": [
    "###Identify the paintings whose asking price is less than 50% of its regular price"
   ]
  },
  {
   "cell_type": "code",
   "execution_count": 0,
   "metadata": {
    "application/vnd.databricks.v1+cell": {
     "cellMetadata": {
      "byteLimit": 2048000,
      "rowLimit": 10000
     },
     "inputWidgets": {},
     "nuid": "a101b019-d16f-49e6-b567-54189c617c0d",
     "showTitle": false,
     "title": ""
    }
   },
   "outputs": [
    {
     "output_type": "stream",
     "name": "stdout",
     "output_type": "stream",
     "text": [
      "+-------+-------+----------+-------------+\n|work_id|size_id|sale_price|regular_price|\n+-------+-------+----------+-------------+\n| 160228|     24|        85|           85|\n| 160228|     30|        95|           95|\n| 160236|     24|        85|           85|\n| 160236|     30|        95|           95|\n| 160244|     24|        85|           85|\n| 160244|     30|        95|           95|\n| 160252|     24|        85|           85|\n| 160252|     30|        95|           95|\n| 160260|     24|        75|           75|\n| 160260|     30|        95|           95|\n| 160268|     24|        85|           85|\n| 160268|     30|        95|           95|\n| 125752|     30|        95|           95|\n| 125752|     24|        85|           85|\n| 125752|   3024|       305|          535|\n| 125752|   3226|       325|          575|\n| 125752|   3629|       375|          675|\n| 125752|   4030|       405|          735|\n| 125752|   4836|       495|          915|\n| 125752|   6048|       675|         1275|\n+-------+-------+----------+-------------+\nonly showing top 20 rows\n\n"
     ]
    }
   ],
   "source": [
    "result_Four = df_product_size.filter(\"sale_price > regular_price*0.5\") \n",
    "result_Four.show()"
   ]
  },
  {
   "cell_type": "markdown",
   "metadata": {
    "application/vnd.databricks.v1+cell": {
     "cellMetadata": {},
     "inputWidgets": {},
     "nuid": "9b0404e1-c6fe-48e3-83f5-763a715f1253",
     "showTitle": false,
     "title": ""
    }
   },
   "source": [
    "### Which canva size costs the most?"
   ]
  },
  {
   "cell_type": "code",
   "execution_count": 0,
   "metadata": {
    "application/vnd.databricks.v1+cell": {
     "cellMetadata": {
      "byteLimit": 2048000,
      "rowLimit": 10000
     },
     "inputWidgets": {},
     "nuid": "f0077ab8-e3c4-4112-b8c6-0eeddcd2dd6d",
     "showTitle": false,
     "title": ""
    }
   },
   "outputs": [],
   "source": [
    "# Defining window specification\n",
    "\n",
    "window_spec = Window.orderBy(desc('sale_price'))\n"
   ]
  },
  {
   "cell_type": "code",
   "execution_count": 0,
   "metadata": {
    "application/vnd.databricks.v1+cell": {
     "cellMetadata": {
      "byteLimit": 2048000,
      "rowLimit": 10000
     },
     "inputWidgets": {},
     "nuid": "36aed1ed-7946-4c8a-9815-04b31467a001",
     "showTitle": false,
     "title": ""
    }
   },
   "outputs": [],
   "source": [
    "# Adding a rank column using the window specification\n",
    "ranked_df = df_product_size.withColumn('rnk', rank().over(window_spec))\n",
    "\n",
    "result_Five = ranked_df.join(df_canvas_size.withColumnRenamed('size_id', 'canvas_size_id'), \n",
    "                           on=(col('size_id') == col('canvas_size_id')) & (col('rnk') == 1)) \\\n",
    "                     .select('label', 'sale_price')\n"
   ]
  },
  {
   "cell_type": "markdown",
   "metadata": {
    "application/vnd.databricks.v1+cell": {
     "cellMetadata": {
      "byteLimit": 2048000,
      "rowLimit": 10000
     },
     "inputWidgets": {},
     "nuid": "b197effd-1011-4a84-bc32-f439902edefd",
     "showTitle": false,
     "title": ""
    }
   },
   "source": [
    "###Identify the museums with invalid city information"
   ]
  },
  {
   "cell_type": "code",
   "execution_count": 0,
   "metadata": {
    "application/vnd.databricks.v1+cell": {
     "cellMetadata": {
      "byteLimit": 2048000,
      "rowLimit": 10000
     },
     "inputWidgets": {},
     "nuid": "b85c0993-c6b5-4217-841b-1889920d5ce9",
     "showTitle": false,
     "title": ""
    }
   },
   "outputs": [],
   "source": [
    "filtered_museum_df = df_museum.filter(col(\"city\").rlike(\"^[0-9]\"))\n"
   ]
  },
  {
   "cell_type": "markdown",
   "metadata": {
    "application/vnd.databricks.v1+cell": {
     "cellMetadata": {},
     "inputWidgets": {},
     "nuid": "fffde02a-ba7b-4ad8-88ba-11584bbdc55a",
     "showTitle": false,
     "title": ""
    }
   },
   "source": [
    "###Fetch the top 10 most famous painting subject"
   ]
  },
  {
   "cell_type": "code",
   "execution_count": 0,
   "metadata": {
    "application/vnd.databricks.v1+cell": {
     "cellMetadata": {},
     "inputWidgets": {},
     "nuid": "a16fc78b-5683-4420-aac1-f1abfe38ad75",
     "showTitle": false,
     "title": ""
    }
   },
   "outputs": [],
   "source": [
    "# Joining work_df and subject_df to get subject information for each painting\n",
    "\n",
    "joined_df = df_work.join(df_subject, work_df.work_id == subject_df.work_id)\n",
    "# Grouping by subject and counting the number of paintings for each subject\n",
    "subject_counts_df = joined_df.groupBy(\"subject\").agg(count(\"*\").alias(\"no_of_paintings\"))\n",
    "# Defining a Window specification to rank subjects based on the number of paintings\n",
    "window_spec = Window.orderBy(subject_counts_df[\"no_of_paintings\"].desc())\n",
    "\n",
    "# Adding a rank column based on the number of paintings for each subject\n",
    "subject_ranked_df = subject_counts_df.withColumn(\"ranking\", rank().over(window_spec))\n",
    "\n",
    "# Selecting the top 10 most famous subjects\n",
    "top_10_subjects_df = subject_ranked_df.filter(subject_ranked_df[\"ranking\"] <= 10)\n"
   ]
  },
  {
   "cell_type": "markdown",
   "metadata": {
    "application/vnd.databricks.v1+cell": {
     "cellMetadata": {},
     "inputWidgets": {},
     "nuid": "a4016776-485d-4173-9358-8755fc231291",
     "showTitle": false,
     "title": ""
    }
   },
   "source": [
    "### Identifing museum name, city which are open on both Sunday and Monday"
   ]
  },
  {
   "cell_type": "code",
   "execution_count": 0,
   "metadata": {
    "application/vnd.databricks.v1+cell": {
     "cellMetadata": {
      "byteLimit": 2048000,
      "rowLimit": 10000
     },
     "inputWidgets": {},
     "nuid": "6dca4d88-9df5-44ee-b1d6-9bed9286b56e",
     "showTitle": false,
     "title": ""
    }
   },
   "outputs": [
    {
     "output_type": "stream",
     "name": "stdout",
     "output_type": "stream",
     "text": [
      "+--------------------+------------+\n|                name|        city|\n+--------------------+------------+\n|Solomon R. Guggen...|    New York|\n|       Israel Museum|   Jerusalem|\n|     Van Gogh Museum|   Amsterdam|\n|  Mauritshuis Museum|    Den Haag|\n|    The Prado Museum|      Madrid|\n|The Barnes Founda...|Philadelphia|\n|Museum of Fine Ar...|       Nancy|\n|National Maritime...|      London|\n|Pushkin State Mus...|      Moscow|\n|    The Tate Gallery|      London|\n|National Gallery ...|  Washington|\n|The Museum of Mod...|    New York|\n|     Musée du Louvre|       75001|\n|  Museum of Grenoble|       38000|\n|    National Gallery|      London|\n|         Rijksmuseum|   Amsterdam|\n|The Metropolitan ...|    New York|\n|Los Angeles Count...| Los Angeles|\n|National Gallery ...|   Melbourne|\n|Nelson-Atkins Mus...| Kansas City|\n+--------------------+------------+\nonly showing top 20 rows\n\n"
     ]
    }
   ],
   "source": [
    "# Filter museum_hours_df for museums open on Sunday\n",
    "sunday_museums_df = df_museum_hours.filter(df_museum_hours[\"day\"] == \"Sunday\")\n",
    "\n",
    "# Filter museum_hours_df for museums open on Monday\n",
    "monday_museums_df = df_museum_hours.filter(df_museum_hours[\"day\"] == \"Monday\")\n",
    "\n",
    "joint_df = sunday_museums_df.join(monday_museums_df, \"museum_id\")\n",
    "joint_df.show()\n",
    "result_df = joint_df.join(df_museum, \"museum_id\") \\\n",
    "                    .select(\"name\", \"city\") \\\n",
    "                    .distinct()\n",
    "result_df.show()\n"
   ]
  },
  {
   "cell_type": "markdown",
   "metadata": {
    "application/vnd.databricks.v1+cell": {
     "cellMetadata": {},
     "inputWidgets": {},
     "nuid": "28ca635b-f6ab-4ad8-b7b6-b59a94957009",
     "showTitle": false,
     "title": ""
    }
   },
   "source": [
    "### How many museums are open every single day?"
   ]
  },
  {
   "cell_type": "code",
   "execution_count": 0,
   "metadata": {
    "application/vnd.databricks.v1+cell": {
     "cellMetadata": {
      "byteLimit": 2048000,
      "rowLimit": 10000
     },
     "inputWidgets": {},
     "nuid": "f5d20cbe-67e9-49b0-a109-1d200cf402f6",
     "showTitle": false,
     "title": ""
    }
   },
   "outputs": [
    {
     "output_type": "stream",
     "name": "stdout",
     "output_type": "stream",
     "text": [
      "+-----+\n|count|\n+-----+\n|   18|\n+-----+\n\n"
     ]
    }
   ],
   "source": [
    "result_df = df_museum_hours \\\n",
    "    .groupBy(\"museum_id\") \\\n",
    "    .agg(count(\"*\").alias(\"count\")) \\\n",
    "    .filter(\"count = 7\") \\\n",
    "    .select(count(\"*\").alias(\"count\"))\n",
    "result_df.show()"
   ]
  },
  {
   "cell_type": "code",
   "execution_count": 0,
   "metadata": {
    "application/vnd.databricks.v1+cell": {
     "cellMetadata": {},
     "inputWidgets": {},
     "nuid": "272f9fa6-e8e3-4c6c-a15b-2a7eb89e0128",
     "showTitle": false,
     "title": ""
    }
   },
   "outputs": [],
   "source": []
  }
 ],
 "metadata": {
  "application/vnd.databricks.v1+notebook": {
   "dashboards": [],
   "language": "python",
   "notebookMetadata": {
    "mostRecentlyExecutedCommandWithImplicitDF": {
     "commandId": 3219505750910517,
     "dataframes": [
      "_sqldf"
     ]
    },
    "pythonIndentUnit": 4
   },
   "notebookName": "TechTFQ_casestudy",
   "widgets": {}
  }
 },
 "nbformat": 4,
 "nbformat_minor": 0
}
